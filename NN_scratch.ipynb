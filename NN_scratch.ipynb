{
 "cells": [
  {
   "cell_type": "markdown",
   "metadata": {},
   "source": [
    "## Neural Networks from scratch"
   ]
  },
  {
   "cell_type": "code",
   "execution_count": 8,
   "metadata": {
    "ExecuteTime": {
     "end_time": "2018-03-22T16:34:51.600152Z",
     "start_time": "2018-03-22T16:34:51.588624Z"
    }
   },
   "outputs": [
    {
     "name": "stdout",
     "output_type": "stream",
     "text": [
      "Vutsal Singhal \n",
      "last updated: Thu Mar 22 2018 12:34:51 EDT\n",
      "\n",
      "numpy 1.13.3\n",
      "matplotlib 2.1.0\n",
      "\n",
      "compiler   : GCC 5.4.0 20160609\n",
      "system     : Linux\n",
      "release    : 4.13.0-37-generic\n",
      "machine    : x86_64\n",
      "processor  : x86_64\n",
      "CPU cores  : 8\n",
      "interpreter: 64bit\n"
     ]
    }
   ],
   "source": [
    "#Metadata\n",
    "%load_ext watermark\n",
    "%watermark -a \"Vutsal Singhal\" -p numpy,matplotlib -u -n -t -z -m"
   ]
  },
  {
   "cell_type": "markdown",
   "metadata": {
    "ExecuteTime": {
     "end_time": "2018-03-17T15:07:13.422627Z",
     "start_time": "2018-03-17T15:07:13.416243Z"
    }
   },
   "source": [
    "## Import libraries"
   ]
  },
  {
   "cell_type": "code",
   "execution_count": 3,
   "metadata": {
    "ExecuteTime": {
     "end_time": "2018-03-22T16:33:43.742951Z",
     "start_time": "2018-03-22T16:33:41.154486Z"
    }
   },
   "outputs": [],
   "source": [
    "import os\n",
    "import sys\n",
    "import struct\n",
    "import numpy as np\n",
    "import matplotlib.pyplot as plt"
   ]
  },
  {
   "cell_type": "markdown",
   "metadata": {},
   "source": [
    "### XOR\n",
    "\n",
    "![XOR truth table](https://cdn-images-1.medium.com/max/1800/1*kmGgyHl3oj-iZOXPkfo0RA.png)\n",
    "![Visual representation](https://cdn-images-1.medium.com/max/800/1*WHajEhvp_7ZdXhuUY5V6Lw.png)"
   ]
  },
  {
   "cell_type": "markdown",
   "metadata": {},
   "source": [
    "### Parameters"
   ]
  },
  {
   "cell_type": "code",
   "execution_count": 71,
   "metadata": {
    "ExecuteTime": {
     "end_time": "2018-03-22T18:50:03.267895Z",
     "start_time": "2018-03-22T18:50:03.264442Z"
    }
   },
   "outputs": [],
   "source": [
    "epochs = 200000\n",
    "input_size, hidden_size, output_size = 2, 3, 1\n",
    "lr = 0.1  # learning rate"
   ]
  },
  {
   "cell_type": "markdown",
   "metadata": {},
   "source": [
    "### Data"
   ]
  },
  {
   "cell_type": "code",
   "execution_count": 65,
   "metadata": {
    "ExecuteTime": {
     "end_time": "2018-03-22T18:49:29.403809Z",
     "start_time": "2018-03-22T18:49:29.400740Z"
    }
   },
   "outputs": [],
   "source": [
    "X = np.array([[0, 0], [0, 1], [1, 0], [1, 1]])\n",
    "y = np.array([[0], [1], [1], [0]])"
   ]
  },
  {
   "cell_type": "markdown",
   "metadata": {},
   "source": [
    "### Random initialization of weights"
   ]
  },
  {
   "cell_type": "code",
   "execution_count": 72,
   "metadata": {
    "ExecuteTime": {
     "end_time": "2018-03-22T18:50:05.769083Z",
     "start_time": "2018-03-22T18:50:05.765892Z"
    }
   },
   "outputs": [],
   "source": [
    "w_hidden = np.random.uniform(size=(input_size, hidden_size))\n",
    "w_output = np.random.uniform(size=(hidden_size, output_size))"
   ]
  },
  {
   "cell_type": "markdown",
   "metadata": {},
   "source": [
    "### Implementing the network"
   ]
  },
  {
   "cell_type": "code",
   "execution_count": 73,
   "metadata": {
    "ExecuteTime": {
     "end_time": "2018-03-22T18:50:07.227052Z",
     "start_time": "2018-03-22T18:50:07.215852Z"
    }
   },
   "outputs": [],
   "source": [
    "def sigmoid(x):\n",
    "    return 1/(1 + np.exp(-x))\n",
    "\n",
    "def sigmoid_prime(x):\n",
    "    return sigmoid(x)*(1-sigmoid(x))"
   ]
  },
  {
   "cell_type": "code",
   "execution_count": 74,
   "metadata": {
    "ExecuteTime": {
     "end_time": "2018-03-22T18:50:13.321328Z",
     "start_time": "2018-03-22T18:50:07.457431Z"
    }
   },
   "outputs": [
    {
     "name": "stdout",
     "output_type": "stream",
     "text": [
      "Error sum [-2.39710191]\n",
      "Error sum [ 0.0018293]\n",
      "Error sum [-0.00027329]\n",
      "Error sum [-0.0004368]\n",
      "Error sum [-0.00056331]\n",
      "Error sum [-0.00072552]\n",
      "Error sum [-0.00059155]\n",
      "Error sum [ 0.00118274]\n",
      "Error sum [ 0.00375493]\n",
      "Error sum [ 0.00535318]\n",
      "Error sum [ 0.00573991]\n",
      "Error sum [ 0.00944304]\n",
      "Error sum [ 0.00832747]\n",
      "Error sum [ 0.00613206]\n",
      "Error sum [ 0.00419234]\n",
      "Error sum [ 0.00267318]\n",
      "Error sum [ 0.00163105]\n",
      "Error sum [ 0.0012371]\n",
      "Error sum [ 0.00171747]\n",
      "Error sum [ 0.00225421]\n",
      "Error sum [ 0.00146631]\n",
      "Error sum [-0.00022997]\n",
      "Error sum [-0.00075179]\n",
      "Error sum [ 0.00709621]\n",
      "Error sum [ 0.06868757]\n",
      "Error sum [ 0.08666527]\n",
      "Error sum [ 0.01222466]\n",
      "Error sum [ 0.00117864]\n",
      "Error sum [ 0.00010973]\n",
      "Error sum [  1.01831561e-05]\n",
      "Error sum [  9.44716138e-07]\n",
      "Error sum [  8.76411717e-08]\n",
      "Error sum [  8.13042833e-09]\n",
      "Error sum [  7.54253993e-10]\n",
      "Error sum [  6.99689195e-11]\n",
      "Error sum [  6.50679510e-12]\n",
      "Error sum [  6.18172180e-13]\n",
      "Error sum [  1.36335387e-13]\n",
      "Error sum [  1.36335387e-13]\n",
      "Error sum [  1.36335387e-13]\n"
     ]
    }
   ],
   "source": [
    "for epoch in range(epochs):\n",
    "\n",
    "    # Forward Pass\n",
    "    act_hidden = sigmoid(X.dot(w_hidden))\n",
    "    output = act_hidden.dot(w_output)\n",
    "\n",
    "    # Error\n",
    "    error = y - output\n",
    "\n",
    "    if epoch % 5000 == 0:\n",
    "        print('Error sum {}'.format(sum(error)))\n",
    "\n",
    "    # Backward pass\n",
    "    slope_output_layer = sigmoid_prime(output)\n",
    "    slope_hidden_layer = sigmoid_prime(act_hidden)\n",
    "    \n",
    "    d_output = error*slope_output_layer\n",
    "    error_hidden = np.dot(d_output, w_output.T)\n",
    "    d_hidden = error_hidden*slope_hidden_layer\n",
    "\n",
    "    w_output += np.dot(act_hidden.T,d_output)*lr\n",
    "    w_hidden += np.dot(X.T,d_hidden)*lr"
   ]
  },
  {
   "cell_type": "markdown",
   "metadata": {},
   "source": [
    "### Predicting"
   ]
  },
  {
   "cell_type": "code",
   "execution_count": 79,
   "metadata": {
    "ExecuteTime": {
     "end_time": "2018-03-22T21:09:35.200259Z",
     "start_time": "2018-03-22T21:09:35.194011Z"
    }
   },
   "outputs": [
    {
     "data": {
      "text/plain": [
       "array([ 1.])"
      ]
     },
     "execution_count": 79,
     "metadata": {},
     "output_type": "execute_result"
    }
   ],
   "source": [
    "X_test = np.array([0,1])\n",
    "\n",
    "act_hidden = sigmoid(np.dot(X_test, w_hidden))\n",
    "np.dot(act_hidden, w_output)"
   ]
  },
  {
   "cell_type": "code",
   "execution_count": null,
   "metadata": {},
   "outputs": [],
   "source": []
  }
 ],
 "metadata": {
  "kernelspec": {
   "display_name": "Python 3",
   "language": "python",
   "name": "python3"
  },
  "language_info": {
   "codemirror_mode": {
    "name": "ipython",
    "version": 3
   },
   "file_extension": ".py",
   "mimetype": "text/x-python",
   "name": "python",
   "nbconvert_exporter": "python",
   "pygments_lexer": "ipython3",
   "version": "3.5.2"
  },
  "toc": {
   "nav_menu": {},
   "number_sections": true,
   "sideBar": true,
   "skip_h1_title": false,
   "toc_cell": false,
   "toc_position": {},
   "toc_section_display": "block",
   "toc_window_display": false
  },
  "varInspector": {
   "cols": {
    "lenName": 16,
    "lenType": 16,
    "lenVar": 40
   },
   "kernels_config": {
    "python": {
     "delete_cmd_postfix": "",
     "delete_cmd_prefix": "del ",
     "library": "var_list.py",
     "varRefreshCmd": "print(var_dic_list())"
    },
    "r": {
     "delete_cmd_postfix": ") ",
     "delete_cmd_prefix": "rm(",
     "library": "var_list.r",
     "varRefreshCmd": "cat(var_dic_list()) "
    }
   },
   "types_to_exclude": [
    "module",
    "function",
    "builtin_function_or_method",
    "instance",
    "_Feature"
   ],
   "window_display": false
  }
 },
 "nbformat": 4,
 "nbformat_minor": 2
}
